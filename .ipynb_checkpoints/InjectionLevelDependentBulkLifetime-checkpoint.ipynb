{
 "metadata": {
  "name": "",
  "signature": "sha256:179b47800909706e9d79c663b4456d47efd2798b319f8a77b5143b90c6a24152"
 },
 "nbformat": 3,
 "nbformat_minor": 0,
 "worksheets": [
  {
   "cells": [
    {
     "cell_type": "code",
     "collapsed": false,
     "input": [
      "import numpy as np\n",
      "import matplotlib.pyplot as plt\n",
      "\n",
      "k = 1.38e-23\n",
      "T = 300\n",
      "q = 1.6e-19\n",
      "n = np.logspace(10, 18, 101)\n",
      "Na = 1.5e16\n",
      "B = 9.5e-15;\n",
      "Ei = 0;\n",
      "Et = Ei + 0;\n",
      "ni = 1e10\n",
      "SigmaP = 1e-18\n",
      "SigmaN = 1e-18\n",
      "SigmaRatio = np.ceil(SigmaN / SigmaP)\n",
      "vth = 1e7\n",
      "Nt = 1e15\n",
      "Cn = 2.2e-31\n",
      "Cp = 9.9e-32\n",
      "\n",
      "tauRad = 1 / (B * (n + Na))\n",
      "\n",
      "n1 = ni * np.exp((Et - Ei) * q / k / T)\n",
      "p1 = ni ** 2 / n1\n",
      "taup0 = 1 / SigmaP / vth / Nt\n",
      "taun0 = 1 / SigmaN / vth / Nt\n",
      "tauSRH = taup0 * (n1 + n) / (Na + n) + taun0 * (Na + p1 + n) / (Na + n)\n",
      "\n",
      "tauAug = 1 / (Cp * (Na + n) ** 2 + Cn * (Na + n) * n)\n",
      "\n",
      "tauB = 1 / (1 / tauRad + 1 / tauSRH + 1 / tauAug)\n",
      "\n",
      "plt.figure(1)\n",
      "plt.loglog(n, tauB * 1e6, n, tauRad * 1e6, n, tauSRH * 1e6, n, tauAug * 1e6, linewidth = 4)\n",
      "plt.xlabel(r'$\\Delta n\\ (cm^{-3})$')\n",
      "plt.ylabel(r'$\\tau\\ (\\mu s)$')\n",
      "plt.title('Injection level dependent lifetime ($\\sigma_n/\\sigma_p$ = $10^{' + str(int(np.log10(SigmaRatio))) + '}$)')\n",
      "plt.legend([r'$\\tau_{Bulk}$', r'$\\tau_{Radiative}$', r'$\\tau_{SRH}$', r'$\\tau_{Auger}$'], loc = 3, frameon = False)\n",
      "plt.savefig('All lifetimes (SigmaRatio = ' + str(SigmaRatio) + ').png')\n",
      "\n",
      "plt.show()"
     ],
     "language": "python",
     "metadata": {},
     "outputs": [],
     "prompt_number": 1
    }
   ],
   "metadata": {}
  }
 ]
}