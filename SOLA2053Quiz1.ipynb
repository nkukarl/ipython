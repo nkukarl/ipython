{
 "metadata": {
  "name": ""
 },
 "nbformat": 3,
 "nbformat_minor": 0,
 "worksheets": [
  {
   "cells": [
    {
     "cell_type": "code",
     "collapsed": false,
     "input": [
      "c = 4.18; # specific heat capacity of water\n",
      "L1 = 0.25; # water depth in cm\n",
      "A = 10; # open area in cm^2\n",
      "V = L1 * A; # water volume\n",
      "rho = 1; # water density\n",
      "m = rho * V; # water mass\n",
      "P1 = c * m * 1.186481 / 60; # initial power\n",
      "T_conv = 273.15; # to convert from degree celsius to absolute temperature (Kelvin)\n",
      "T_water_ini = 30 + T_conv; # water temperature in Kelvin\n",
      "emissivity = 1; # emissivity of sky and water\n",
      "sigma = 5.67 * 10 ** -8; # Stefan-Boltzmann constant\n",
      "T_sky = (T_water_ini ** 4 - P1 / emissivity / sigma / (A * 10 ** -4)) ** 0.25; # sky temperature\n",
      "\n",
      "molar_mass = 18; # water molar mass in grams\n",
      "mole_water = m / molar_mass; # water mole\n",
      "h_f = 6020; # water heat of fusion in joule per mole\n",
      "E = mole_water * h_f; # energy required\n",
      "T_water_fin = 0 + T_conv; # water temperature in Kelvin before freezing\n",
      "P2 = emissivity * sigma * (A * 10 ** -4) * (T_water_fin ** 4 - T_sky **4); # final power\n",
      "t1 = E / P2 / 60; # time required for completely freezing in minutes\n",
      "\n",
      "t2 = 8; # time for completely freezing for new depth of water\n",
      "L2 = t2 * 60 / t1 * L1; # new depth of water\n",
      "\n",
      "print \"*******************************************\"\n",
      "print \"Sky temperature : \" + str(T_sky) + \" K\"\n",
      "print \"Time required for completely freezing : \" + str(t1) + \" minutes\"\n",
      "print \"Depth of water : \" + str(L2) + \" cm\"\n",
      "print \"*******************************************\""
     ],
     "language": "python",
     "metadata": {},
     "outputs": [
      {
       "output_type": "stream",
       "stream": "stdout",
       "text": [
        "*******************************************\n",
        "Sky temperature : 263.229269339 K\n",
        "Time required for completely freezing : 320.960454038 minutes\n",
        "Depth of water : 0.373877836008 cm\n",
        "*******************************************\n"
       ]
      }
     ],
     "prompt_number": 22
    },
    {
     "cell_type": "code",
     "collapsed": false,
     "input": [],
     "language": "python",
     "metadata": {},
     "outputs": []
    }
   ],
   "metadata": {}
  }
 ]
}